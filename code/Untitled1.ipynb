{
 "cells": [
  {
   "cell_type": "code",
   "execution_count": 1,
   "metadata": {},
   "outputs": [],
   "source": [
    "import numpy as np\n",
    "import torch"
   ]
  },
  {
   "cell_type": "code",
   "execution_count": null,
   "metadata": {},
   "outputs": [],
   "source": []
  },
  {
   "cell_type": "code",
   "execution_count": 14,
   "metadata": {},
   "outputs": [
    {
     "name": "stdout",
     "output_type": "stream",
     "text": [
      "(2, 1, 1024)\n",
      "(2, 32, 1024)\n",
      "(2, 32, 1024)\n",
      "(2, 32)\n"
     ]
    }
   ],
   "source": [
    "a = np.random.rand(2, 1, 1024)\n",
    "b = np.random.rand(2, 32, 1024)\n",
    "c = a * b\n",
    "d = np.sum(c,axis=-1)\n",
    "print(a.shape)\n",
    "print(b.shape)\n",
    "print(c.shape)\n",
    "print(d.shape)"
   ]
  },
  {
   "cell_type": "code",
   "execution_count": 15,
   "metadata": {},
   "outputs": [
    {
     "name": "stdout",
     "output_type": "stream",
     "text": [
      "(2, 1, 24, 1024)\n",
      "(2, 32, 24, 1024)\n",
      "(2, 32, 24, 1024)\n",
      "(2, 32, 24)\n"
     ]
    }
   ],
   "source": [
    "a = np.random.rand(2, 1, 24, 1024)\n",
    "b = np.random.rand(2, 32, 24, 1024)\n",
    "c = a * b\n",
    "d = np.sum(c,axis=-1)\n",
    "print(a.shape)\n",
    "print(b.shape)\n",
    "print(c.shape)\n",
    "print(d.shape)"
   ]
  },
  {
   "cell_type": "code",
   "execution_count": 24,
   "metadata": {},
   "outputs": [
    {
     "name": "stdout",
     "output_type": "stream",
     "text": [
      "torch.Size([2, 32, 1024, 1])\n",
      "torch.Size([2, 32, 1024, 24])\n"
     ]
    }
   ],
   "source": [
    "p = torch.Tensor(np.random.rand(2, 32, 1024, 1))\n",
    "q = np.random.rand(24,1)\n",
    "# r = p * q \n",
    "print(p.shape)\n",
    "# print(q.shape)\n",
    "# print(r.shape)\n",
    "l = torch.nn.Linear(1, 24)\n",
    "op = l(p)\n",
    "print(op.shape)\n"
   ]
  }
 ],
 "metadata": {
  "kernelspec": {
   "display_name": "Python torchenv",
   "language": "python",
   "name": "torchenv"
  },
  "language_info": {
   "codemirror_mode": {
    "name": "ipython",
    "version": 3
   },
   "file_extension": ".py",
   "mimetype": "text/x-python",
   "name": "python",
   "nbconvert_exporter": "python",
   "pygments_lexer": "ipython3",
   "version": "3.8.8"
  }
 },
 "nbformat": 4,
 "nbformat_minor": 4
}
