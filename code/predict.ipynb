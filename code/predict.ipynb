{
 "cells": [
  {
   "cell_type": "code",
   "execution_count": null,
   "metadata": {},
   "outputs": [
    {
     "name": "stdout",
     "output_type": "stream",
     "text": [
      "Use GPU: cuda:0\n"
     ]
    },
    {
     "data": {
      "text/plain": [
       "<All keys matched successfully>"
      ]
     },
     "execution_count": 9,
     "metadata": {},
     "output_type": "execute_result"
    }
   ],
   "source": [
    "import os\n",
    "\n",
    "# args.output_attention = True\n",
    "\n",
    "exp = Exp(args)\n",
    "\n",
    "model = exp.model\n",
    "\n",
    "setting = 'ETTh1_96_24_Autoformer_ETTh1_ftM_sl96_ll48_pl24_dm512_nh8_el2_dl1_df2048_fc1_ebtimeF_dtTrue_Exp_0'\n",
    "path = os.path.join(args.checkpoints,setting,'checkpoint.pth')\n",
    "model.load_state_dict(torch.load(path))"
   ]
  },
  {
   "cell_type": "code",
   "execution_count": null,
   "metadata": {},
   "outputs": [
    {
     "name": "stdout",
     "output_type": "stream",
     "text": [
      "True\n",
      "1\n",
      "NVIDIA GeForce RTX 3090\n",
      "0\n"
     ]
    }
   ],
   "source": [
    "import torch\n",
    "print(torch.cuda.is_available())\t\t # 查看GPu设备是否可用\n",
    "print(torch.cuda.device_count()) \t\t# 查看GPu设备数量\n",
    "print(torch.cuda.get_device_name())   \t# 查看当前GPu设备名称，默认设备id从0开始\n",
    "print(torch.cuda.current_device())\t\t# 查看当前GPu设备id\n"
   ]
  },
  {
   "cell_type": "code",
   "execution_count": null,
   "metadata": {},
   "outputs": [],
   "source": [
    "torch.cuda.is_available() \n",
    "import torch\n",
    "torch.cuda.set_device(0)"
   ]
  },
  {
   "cell_type": "code",
   "execution_count": null,
   "metadata": {},
   "outputs": [
    {
     "name": "stdout",
     "output_type": "stream",
     "text": [
      "Args in experiment:\n",
      "{'target': 'OT', 'des': 'Exp', 'dropout': 0.05, 'num_workers': 10, 'gpu': 0, 'lradj': 'type1', 'devices': '0', 'use_gpu': True, 'use_multi_gpu': False, 'freq': 'h', 'checkpoints': './checkpoints/', 'bucket_size': 4, 'n_hashes': 4, 'is_trainging': True, 'root_path': './dataset/ETT-small/', 'data_path': 'ETTh1.csv', 'model_id': 'ETTh1_96_24', 'model': 'Autoformer', 'data': 'ETTh1', 'features': 'M', 'seq_len': 96, 'label_len': 48, 'pred_len': 24, 'e_layers': 2, 'd_layers': 1, 'n_heads': 8, 'factor': 1, 'enc_in': 7, 'dec_in': 7, 'c_out': 7, 'd_model': 512, 'itr': 1, 'd_ff': 2048, 'moving_avg': 25, 'distil': True, 'output_attention': False, 'patience': 3, 'learning_rate': 0.0001, 'batch_size': 32, 'embed': 'timeF', 'activation': 'gelu', 'use_amp': False, 'loss': 'mse', 'train_epochs': 10}\n"
     ]
    }
   ],
   "source": [
    "import argparse\n",
    "import os\n",
    "import torch\n",
    "from exp.exp_main import Exp_Main#exp stands for experiments\n",
    "import random\n",
    "import numpy as np\n",
    "from utils.tools import dotdict\n",
    "\n",
    "fix_seed = 2021 \n",
    "random.seed(fix_seed)\n",
    "torch.manual_seed(fix_seed)\n",
    "np.random.seed(fix_seed)\n",
    "\n",
    "parser = argparse.ArgumentParser(description='Autoformer & Transformer family for Time Series Forecasting')\n",
    "\n",
    "# basic config\n",
    "parser.add_argument('--is_training', type=int, required=True, default=1, help='status')\n",
    "parser.add_argument('--model_id', type=str, required=True, default='test', help='model id')#模型id\n",
    "parser.add_argument('--model', type=str, required=True, default='Autoformer',#选择模型\n",
    "                    help='model name, options: [Autoformer, Informer, Transformer]')\n",
    "\n",
    "# data loader\n",
    "parser.add_argument('--data', type=str, required=True, default='ETTm1', help='dataset type')#数据类型\n",
    "parser.add_argument('--root_path', type=str, default='./data/ETT/', help='root path of the data file')#数据文件夹路径\n",
    "parser.add_argument('--data_path', type=str, default='ETTh1.csv', help='data file')#具体文件\n",
    "parser.add_argument('--features', type=str, default='M',\n",
    "                    help='forecasting task, options:[M, S, MS]; M:multivariate predict multivariate, S:univariate predict univariate, MS:multivariate predict univariate')#预测类别\n",
    "parser.add_argument('--target', type=str, default='OT', help='target feature in S or MS task')#不太懂 OT好像代表Output Target,要预测的单变量\n",
    "parser.add_argument('--freq', type=str, default='h',\n",
    "                    help='freq for time features encoding, options:[s:secondly, t:minutely, h:hourly, d:daily, b:business days, w:weekly, m:monthly], you can also use more detailed freq like 15min or 3h')\n",
    "parser.add_argument('--checkpoints', type=str, default='./checkpoints/', help='location of model checkpoints')#保存模型\n",
    "\n",
    "# forecasting task\n",
    "parser.add_argument('--seq_len', type=int, default=96, help='input sequence length')#输入序列长度\n",
    "parser.add_argument('--label_len', type=int, default=48, help='start token length')#这个label_len未完全搞懂\n",
    "parser.add_argument('--pred_len', type=int, default=24, help='prediction sequence length')#输出序列长度\n",
    "\n",
    "# model define\n",
    "parser.add_argument('--bucket_size', type=int, default=4, help='for Reformer')#Reformer专用属性\n",
    "parser.add_argument('--n_hashes', type=int, default=4, help='for Reformer')#Reformer专用属性\n",
    "parser.add_argument('--enc_in', type=int, default=7, help='encoder input size')#encoder input size\n",
    "parser.add_argument('--dec_in', type=int, default=7, help='decoder input size')#decoder input size\n",
    "parser.add_argument('--c_out', type=int, default=7, help='output size')#输出长度\n",
    "parser.add_argument('--d_model', type=int, default=512, help='dimension of model')#dimension of model\n",
    "parser.add_argument('--n_heads', type=int, default=8, help='num of heads')#num of heads \n",
    "parser.add_argument('--e_layers', type=int, default=2, help='num of encoder layers')#num of encoder layers\n",
    "parser.add_argument('--d_layers', type=int, default=1, help='num of decoder layers')#num of decoder layers\n",
    "parser.add_argument('--d_ff', type=int, default=2048, help='dimension of fcn')#dimension of fcn\n",
    "parser.add_argument('--moving_avg', type=int, default=25, help='window size of moving average')#窗口滑动平均数\n",
    "parser.add_argument('--factor', type=int, default=1, help='attn factor')#attn factor不太理解\n",
    "parser.add_argument('--distil', action='store_false',\n",
    "                    help='whether to use distilling in encoder, using this argument means not using distilling',\n",
    "                    default=True)#是否在encoder里面使用知识蒸馏\n",
    "parser.add_argument('--dropout', type=float, default=0.05, help='dropout')#dropout\n",
    "parser.add_argument('--embed', type=str, default='timeF',\n",
    "                    help='time features encoding, options:[timeF, fixed, learned]')#time features encoding不太能get到\n",
    "parser.add_argument('--activation', type=str, default='gelu', help='activation')#激活函数default=gelu\n",
    "parser.add_argument('--output_attention', action='store_true', help='whether to output attention in encoder')#encoder的output_attention是否输出\n",
    "parser.add_argument('--do_predict', action='store_true', help='whether to predict unseen future data')#是否预测未见的未来数据,也就是是否进行推理的意思\n",
    "\n",
    "# optimization\n",
    "parser.add_argument('--num_workers', type=int, default=10, help='data loader num workers')# num_workers是加载数据(batch)的线程数目\n",
    "parser.add_argument('--itr', type=int, default=2, help='experiments times')#实验次数\n",
    "parser.add_argument('--train_epochs', type=int, default=10, help='train epochs')#就是epoch\n",
    "parser.add_argument('--batch_size', type=int, default=32, help='batch size of train input data')#bathsize\n",
    "parser.add_argument('--patience', type=int, default=3, help='early stopping patience')#patience: 当early stop被激活(如发现loss相比上一个epoch训练没有下降)，则经过patience个epoch后停止训练\n",
    "parser.add_argument('--learning_rate', type=float, default=0.0001, help='optimizer learning rate')#lr\n",
    "parser.add_argument('--des', type=str, default='test', help='exp description')#test\n",
    "parser.add_argument('--loss', type=str, default='mse', help='loss function')#loss is mse\n",
    "parser.add_argument('--lradj', type=str, default='type1', help='adjust learning rate')#adjust learning-rate\n",
    "parser.add_argument('--use_amp', action='store_true', help='use automatic mixed precision training', default=False)#使用自动混合精度训练\n",
    "\n",
    "# GPU\n",
    "parser.add_argument('--use_gpu', type=bool, default=True, help='use gpu')\n",
    "parser.add_argument('--gpu', type=int, default=0, help='gpu')\n",
    "parser.add_argument('--use_multi_gpu', action='store_true', help='use multiple gpus', default=False)\n",
    "parser.add_argument('--devices', type=str, default='0,1,2,3', help='device ids of multile gpus')\n",
    "\n",
    "# args = parser.parse_args()\n",
    "args = dotdict()\n",
    "args.target = 'OT'\n",
    "args.des = 'test'\n",
    "args.dropout = 0.05\n",
    "args.num_workers = 10\n",
    "args.gpu = 0\n",
    "args.lradj = 'type1'\n",
    "args.devices = '0'\n",
    "args.use_gpu = True\n",
    "args.use_multi_gpu = False\n",
    "# if args.use_gpu and args.use_multi_gpu: #是否使用多卡的判断\n",
    "#     args.dvices = args.devices.replace(' ', '')\n",
    "#     device_ids = args.devices.split(',')\n",
    "#     args.device_ids = [int(id_) for id_ in device_ids]\n",
    "#     args.gpu = args.device_ids[0]\n",
    "args.freq = 'h'\n",
    "args.checkpoints = './checkpoints/'\n",
    "args.bucket_size = 4\n",
    "args.n_hashes = 4\n",
    "args.is_trainging = True\n",
    "args.root_path = './dataset/ETT-small/'\n",
    "args.data_path ='ETTh1.csv' \n",
    "args.model_id='ETTh1_96_24'\n",
    "args.model = 'Autoformer'\n",
    "args.data = 'ETTh1'\n",
    "args.features = 'M'\n",
    "args.seq_len = 96\n",
    "args.label_len = 48\n",
    "args.pred_len = 24\n",
    "args.e_layers = 2\n",
    "args.d_layers = 1\n",
    "args.n_heads = 8\n",
    "args.factor = 1\n",
    "args.enc_in = 7\n",
    "args.dec_in =7\n",
    "args.c_out = 7\n",
    "args.d_model = 512\n",
    "args.des = 'Exp'\n",
    "args.itr = 1\n",
    "args.d_ff = 2048\n",
    "args.moving_avg = 25\n",
    "args.factor = 1\n",
    "args.distil = True\n",
    "args.output_attention = False\n",
    "args.patience= 3\n",
    "args.learning_rate = 0.0001\n",
    "args.batch_size = 32 \n",
    "args.embed = 'timeF'\n",
    "args.activation = 'gelu'\n",
    "args.use_amp = False\n",
    "args.loss = 'mse'\n",
    "args.train_epochs = 10\n",
    "print('Args in experiment:')\n",
    "print(args)\n",
    "\n",
    "Exp = Exp_Main\n",
    "\n",
    "\n"
   ]
  },
  {
   "cell_type": "code",
   "execution_count": null,
   "metadata": {},
   "outputs": [
    {
     "name": "stdout",
     "output_type": "stream",
     "text": [
      "Use GPU: cuda:0\n",
      "1\n",
      ">>>>>>>start training : ETTh1_96_24_Autoformer_ETTh1_ftM_sl96_ll48_pl24_dm512_nh8_el2_dl1_df2048_fc1_ebtimeF_dtTrue_Exp_0>>>>>>>>>>>>>>>>>>>>>>>>>>\n",
      "train 8521\n",
      "val 2857\n",
      "test 2857\n",
      "\titers: 100, epoch: 1 | loss: 0.3452503\n",
      "\tspeed: 0.0606s/iter; left time: 155.1843s\n",
      "\titers: 200, epoch: 1 | loss: 0.3061770\n",
      "\tspeed: 0.0336s/iter; left time: 82.5755s\n",
      "Epoch: 1 cost time: 11.749736309051514\n",
      "Epoch: 1, Steps: 266 | Train Loss: 0.3544893 Vali Loss: 0.5863745 Test Loss: 0.3798478\n",
      "Validation loss decreased (inf --> 0.586374).  Saving model ...\n",
      "Updating learning rate to 0.0001\n",
      "\titers: 100, epoch: 2 | loss: 0.2983823\n",
      "\tspeed: 0.1027s/iter; left time: 235.7041s\n",
      "\titers: 200, epoch: 2 | loss: 0.2859739\n",
      "\tspeed: 0.0332s/iter; left time: 72.7752s\n",
      "Epoch: 2 cost time: 9.083820819854736\n",
      "Epoch: 2, Steps: 266 | Train Loss: 0.2927621 Vali Loss: 0.6249782 Test Loss: 0.4045280\n",
      "EarlyStopping counter: 1 out of 3\n",
      "Updating learning rate to 5e-05\n",
      "\titers: 100, epoch: 3 | loss: 0.2311743\n",
      "\tspeed: 0.0964s/iter; left time: 195.4976s\n",
      "\titers: 200, epoch: 3 | loss: 0.2433617\n",
      "\tspeed: 0.0331s/iter; left time: 63.8016s\n",
      "Epoch: 3 cost time: 9.000295639038086\n",
      "Epoch: 3, Steps: 266 | Train Loss: 0.2644387 Vali Loss: 0.6007050 Test Loss: 0.4031203\n",
      "EarlyStopping counter: 2 out of 3\n",
      "Updating learning rate to 2.5e-05\n",
      "\titers: 100, epoch: 4 | loss: 0.2254572\n",
      "\tspeed: 0.0979s/iter; left time: 172.6233s\n",
      "\titers: 200, epoch: 4 | loss: 0.2654203\n",
      "\tspeed: 0.0330s/iter; left time: 54.8957s\n",
      "Epoch: 4 cost time: 9.05700421333313\n",
      "Epoch: 4, Steps: 266 | Train Loss: 0.2476054 Vali Loss: 0.5942122 Test Loss: 0.4114987\n",
      "EarlyStopping counter: 3 out of 3\n",
      "Early stopping\n",
      "2\n",
      ">>>>>>>testing : ETTh1_96_24_Autoformer_ETTh1_ftM_sl96_ll48_pl24_dm512_nh8_el2_dl1_df2048_fc1_ebtimeF_dtTrue_Exp_0<<<<<<<<<<<<<<<<<<<<<<<<<<<<<<<<<\n",
      "test 2857\n",
      "test shape: (89, 32, 24, 7) (89, 32, 24, 7)\n",
      "test shape: (2848, 24, 7) (2848, 24, 7)\n",
      "mse:0.3798477351665497, mae:0.4185081720352173\n",
      "3\n"
     ]
    }
   ],
   "source": [
    "os.environ[\"CUDA_VISIBLE_DEVICES\"] = '0'\n",
    "\n",
    "for ii in range(args.itr):#itr就是实验次数可不是epoch，parser.add_argument('--itr', type=int, default=2, help='experiments times')\n",
    "    # setting record of experiments\n",
    "    setting = '{}_{}_{}_ft{}_sl{}_ll{}_pl{}_dm{}_nh{}_el{}_dl{}_df{}_fc{}_eb{}_dt{}_{}_{}'.format(\n",
    "        args.model_id,\n",
    "        args.model,\n",
    "        args.data,\n",
    "        args.features,\n",
    "        args.seq_len,\n",
    "        args.label_len,\n",
    "        args.pred_len,\n",
    "        args.d_model,\n",
    "        args.n_heads,\n",
    "        args.e_layers,\n",
    "        args.d_layers,\n",
    "        args.d_ff,\n",
    "        args.factor,\n",
    "        args.embed,\n",
    "        args.distil,\n",
    "        args.des, ii)\n",
    "\n",
    "    exp = Exp(args)  # set experiments\n",
    "    print(1)\n",
    "    print('>>>>>>>start training : {}>>>>>>>>>>>>>>>>>>>>>>>>>>'.format(setting))\n",
    "    exp.train(setting)#setting是用来保存模型的名字用的，很细节\n",
    "    print(2)\n",
    "    print('>>>>>>>testing : {}<<<<<<<<<<<<<<<<<<<<<<<<<<<<<<<<<'.format(setting))\n",
    "    exp.test(setting)\n",
    "    torch.cuda.empty_cache()\n",
    "    print(3)\n",
    "\n"
   ]
  },
  {
   "cell_type": "code",
   "execution_count": null,
   "metadata": {},
   "outputs": [],
   "source": [
    "# custom data: xxx.csv\n",
    "# data features: ['date', ...(other features), target feature]\n",
    "\n",
    "# we take ETTh2 as an example #模仿informer 的 colab example的custom_dataset与predict部分\n",
    "import pandas as pd\n",
    "exp.args.root_path = './dataset/ETT-small/'\n",
    "exp.args.data_path = 'ETTh2.csv'\n",
    "\n",
    "df = pd.read_csv(os.path.join(args.root_path, args.data_path))"
   ]
  },
  {
   "cell_type": "code",
   "execution_count": null,
   "metadata": {},
   "outputs": [
    {
     "name": "stdout",
     "output_type": "stream",
     "text": [
      ">>>>>>>predicting : ETTh1_96_24_Autoformer_ETTh1_ftM_sl96_ll48_pl24_dm512_nh8_el2_dl1_df2048_fc1_ebtimeF_dtTrue_Exp_0<<<<<<<<<<<<<<<<<<<<<<<<<<<<<<<<<\n",
      "pred 1\n"
     ]
    }
   ],
   "source": [
    "\n",
    "args.do_predict = True\n",
    "if args.do_predict:\n",
    "    print('>>>>>>>predicting : {}<<<<<<<<<<<<<<<<<<<<<<<<<<<<<<<<<'.format(setting))\n",
    "    prediction=exp.predict(setting, True)#data_factory做好了pred里面的batch_size=1的情况，是autoformer在informer基础之上做的\n",
    "    torch.cuda.empty_cache()\n",
    "    # print(prediction.shape)"
   ]
  },
  {
   "cell_type": "code",
   "execution_count": null,
   "metadata": {},
   "outputs": [
    {
     "name": "stdout",
     "output_type": "stream",
     "text": [
      "torch.Size([1, 7, 24])\n",
      "torch.Size([24])\n"
     ]
    },
    {
     "data": {
      "image/png": "[encoded data removed]",
      "text/plain": [
       "<Figure size 432x288 with 1 Axes>"
      ]
     },
     "metadata": {
      "needs_background": "light"
     },
     "output_type": "display_data"
    },
    {
     "name": "stdout",
     "output_type": "stream",
     "text": [
      "torch.Size([24])\n"
     ]
    },
    {
     "data": {
      "image/png": "[encoded data removed]",
      "text/plain": [
       "<Figure size 432x288 with 1 Axes>"
      ]
     },
     "metadata": {
      "needs_background": "light"
     },
     "output_type": "display_data"
    },
    {
     "name": "stdout",
     "output_type": "stream",
     "text": [
      "torch.Size([24])\n"
     ]
    },
    {
     "data": {
      "image/png": "[encoded data removed]",
      "text/plain": [
       "<Figure size 432x288 with 1 Axes>"
      ]
     },
     "metadata": {
      "needs_background": "light"
     },
     "output_type": "display_data"
    },
    {
     "name": "stdout",
     "output_type": "stream",
     "text": [
      "torch.Size([24])\n"
     ]
    },
    {
     "data": {
      "image/png": "[encoded data removed]",
      "text/plain": [
       "<Figure size 432x288 with 1 Axes>"
      ]
     },
     "metadata": {
      "needs_background": "light"
     },
     "output_type": "display_data"
    },
    {
     "name": "stdout",
     "output_type": "stream",
     "text": [
      "torch.Size([24])\n"
     ]
    },
    {
     "data": {
      "image/png": "[encoded data removed]",
      "text/plain": [
       "<Figure size 432x288 with 1 Axes>"
      ]
     },
     "metadata": {
      "needs_background": "light"
     },
     "output_type": "display_data"
    },
    {
     "name": "stdout",
     "output_type": "stream",
     "text": [
      "torch.Size([24])\n"
     ]
    },
    {
     "data": {
      "image/png": "[encoded data removed]",
      "text/plain": [
       "<Figure size 432x288 with 1 Axes>"
      ]
     },
     "metadata": {
      "needs_background": "light"
     },
     "output_type": "display_data"
    }
   ],
   "source": [
    "%matplotlib inline\n",
    "import matplotlib.pyplot as plt\n",
    "\n",
    "import torch.nn.functional as F\n",
    "import torch\n",
    "import matplotlib.pyplot as plt \n",
    "import numpy as np\n",
    "import matplotlib\n",
    "# data_pred = np.load('./results/ETTh1_96_24_Autoformer_ETTh1_ftM_sl96_ll48_pl24_dm512_nh8_el2_dl1_df2048_fc1_ebtimeF_dtTrue_Exp_0/pred.npy')\n",
    "data_pred = np.load('./results/ETTh1_96_24_Autoformer_ETTh1_ftM_sl96_ll48_pl24_dm512_nh8_el2_dl1_df2048_fc1_ebtimeF_dtTrue_Exp_0/real_prediction.npy')\n",
    "data_pred = torch.from_numpy(data_pred).permute(0,2,1)\n",
    "\n",
    "plt.figure()\n",
    "print(data_pred.shape)\n",
    "#预测OT\n",
    "plt.plot(data_pred[-1,-1,:])#由于prediction.shape是[1,24,7]那么batch只有1 索引只能是0或-1 都是代表batch这一维本身,如果是加载np文件就不一样了\n",
    "print(data_pred[-1,-1,:].shape)\n",
    "plt.show()\n",
    "plt.plot(data_pred[0,-1,:])#没问题\n",
    "print(data_pred[0,-1,:].shape)\n",
    "plt.show()\n",
    "# draw HUFL prediction\n",
    "plt.plot(data_pred[0,0,:])#没问题\n",
    "print(data_pred[-1,-1,:].shape)\n",
    "plt.show()\n",
    "'''\n",
    "Ground Truth\n",
    "'''\n",
    "data_gt = np.load('./results/ETTh1_96_24_Autoformer_ETTh1_ftM_sl96_ll48_pl24_dm512_nh8_el2_dl1_df2048_fc1_ebtimeF_dtTrue_Exp_0/true.npy')\n",
    "data_gt = torch.from_numpy(data_gt).permute(0,2,1)\n",
    "\n",
    "#预测OT\n",
    "plt.plot(data_gt[-1,-1,:])#由于prediction.shape是[1,24,7]那么batch只有1 索引只能是0或-1 都是代表batch这一维本身,如果是加载np文件就不一样了\n",
    "print(data_gt[-1,-1,:].shape)\n",
    "plt.show()\n",
    "plt.plot(data_gt[0,-1,:])#没问题\n",
    "print(data_gt[0,-1,:].shape)\n",
    "plt.show()\n",
    "# draw HUFL prediction\n",
    "plt.plot(data_gt[0,0,:])#没问题\n",
    "print(data_gt[-1,-1,:].shape)\n",
    "plt.show()\n",
    "\n"
   ]
  }
 ],
 "metadata": {
  "interpreter": {
   "hash": "f57785bf53e86c458d31dd8512073d1ac6cae98f342ec9a1a9a8506681d63dcb"
  },
  "kernelspec": {
   "display_name": "Python 3.7.13 ('openmmlab')",
   "language": "python",
   "name": "python3"
  },
  "language_info": {
   "codemirror_mode": {
    "name": "ipython",
    "version": 3
   },
   "file_extension": ".py",
   "mimetype": "text/x-python",
   "name": "python",
   "nbconvert_exporter": "python",
   "pygments_lexer": "ipython3",
   "version": "3.7.13"
  },
  "orig_nbformat": 4
 },
 "nbformat": 4,
 "nbformat_minor": 2
}
